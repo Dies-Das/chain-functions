{
 "cells": [
  {
   "cell_type": "markdown",
   "id": "cc2485d7-c778-496c-b1e9-327f087e2efa",
   "metadata": {},
   "source": [
    "# CoefficientFunction for computing eigenvalues of a 2x2 matrix"
   ]
  },
  {
   "cell_type": "code",
   "execution_count": null,
   "id": "bece3f0f-c87c-4eb9-a0ff-fc68780bfbf4",
   "metadata": {},
   "outputs": [],
   "source": [
    "from ngsolve import *\n",
    "from ngsolve.webgui import Draw\n",
    "import ngsolve_addon_template as addon"
   ]
  },
  {
   "cell_type": "code",
   "execution_count": null,
   "id": "e97886cd-4ec4-4566-b6eb-de2a443a4d2d",
   "metadata": {},
   "outputs": [],
   "source": [
    "mesh = Mesh(unit_square.GenerateMesh(maxh=0.2))\n",
    "func = CF( (1,y,y,x) ).Reshape( (2,2) )\n",
    "\n",
    "eigenvalues = addon.EigH (func)"
   ]
  },
  {
   "cell_type": "code",
   "execution_count": null,
   "id": "3e08b94a-3fa2-4d58-adf9-7b152293ed12",
   "metadata": {},
   "outputs": [],
   "source": [
    "Draw (eigenvalues[0], mesh);"
   ]
  },
  {
   "cell_type": "code",
   "execution_count": null,
   "id": "15951d19-4653-4f9e-b17b-e3f1f1d7d588",
   "metadata": {},
   "outputs": [],
   "source": []
  }
 ],
 "metadata": {
  "kernelspec": {
   "display_name": "Python 3 (ipykernel)",
   "language": "python",
   "name": "python3"
  },
  "language_info": {
   "codemirror_mode": {
    "name": "ipython",
    "version": 3
   },
   "file_extension": ".py",
   "mimetype": "text/x-python",
   "name": "python",
   "nbconvert_exporter": "python",
   "pygments_lexer": "ipython3",
   "version": "3.12.2"
  }
 },
 "nbformat": 4,
 "nbformat_minor": 5
}
