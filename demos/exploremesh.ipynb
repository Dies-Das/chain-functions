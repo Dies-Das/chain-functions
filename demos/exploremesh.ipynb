{
 "cells": [
  {
   "cell_type": "markdown",
   "id": "fc6eb446-407d-4ef1-a242-f4e11b80f5bf",
   "metadata": {},
   "source": [
    "# Exploring the mesh in C++"
   ]
  },
  {
   "cell_type": "code",
   "execution_count": null,
   "id": "29cb40d2-3c03-47df-8733-830e05d8d31d",
   "metadata": {},
   "outputs": [],
   "source": [
    "from ngsolve import *\n",
    "import my_ngsolve_addon as addon"
   ]
  },
  {
   "cell_type": "code",
   "execution_count": null,
   "id": "12b0e3f1-42a3-4f48-b78f-d8a0cf775f92",
   "metadata": {},
   "outputs": [],
   "source": [
    "mesh = Mesh(unit_cube.GenerateMesh(maxh=1))"
   ]
  },
  {
   "cell_type": "code",
   "execution_count": null,
   "id": "729fa29d-6304-4aa4-9fd1-b5db6236f55d",
   "metadata": {},
   "outputs": [],
   "source": [
    "addon.ExploreMesh(mesh)"
   ]
  },
  {
   "cell_type": "code",
   "execution_count": null,
   "id": "1c737327-a4fd-4dd9-b2ad-d11f6246e615",
   "metadata": {},
   "outputs": [],
   "source": []
  }
 ],
 "metadata": {
  "kernelspec": {
   "display_name": "Python 3 (ipykernel)",
   "language": "python",
   "name": "python3"
  },
  "language_info": {
   "codemirror_mode": {
    "name": "ipython",
    "version": 3
   },
   "file_extension": ".py",
   "mimetype": "text/x-python",
   "name": "python",
   "nbconvert_exporter": "python",
   "pygments_lexer": "ipython3",
   "version": "3.12.2"
  }
 },
 "nbformat": 4,
 "nbformat_minor": 5
}
